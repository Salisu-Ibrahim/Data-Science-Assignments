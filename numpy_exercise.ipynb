{
  "nbformat": 4,
  "nbformat_minor": 0,
  "metadata": {
    "colab": {
      "provenance": [],
      "authorship_tag": "ABX9TyPHwfqifwDfbefV1YMfiApm"
    },
    "kernelspec": {
      "name": "python3",
      "display_name": "Python 3"
    },
    "language_info": {
      "name": "python"
    }
  },
  "cells": [
    {
      "cell_type": "markdown",
      "source": [
        "# NUMPY: Is a Data science package that are used for numerical analysis and it's more popular and faster."
      ],
      "metadata": {
        "id": "M0H-w7Q05DB2"
      }
    },
    {
      "cell_type": "markdown",
      "source": [
        " Import the numpy package under the name np"
      ],
      "metadata": {
        "id": "nfur6GAS5ja2"
      }
    },
    {
      "cell_type": "code",
      "execution_count": 1,
      "metadata": {
        "id": "DOCPN6cb49hb"
      },
      "outputs": [],
      "source": [
        "# mporting the numpy Library\n",
        "import numpy as np"
      ]
    },
    {
      "cell_type": "markdown",
      "source": [
        "Print the numpy version and the configuration"
      ],
      "metadata": {
        "id": "8d0xjPgu5-uG"
      }
    },
    {
      "cell_type": "code",
      "source": [
        "# Print NumPy version\n",
        "print(\"NumPy version:\", np.__version__)\n",
        "\n",
        "# Print NumPy configuration\n",
        "print(\"NumPy configuration:\")\n",
        "print(np.show_config())\n"
      ],
      "metadata": {
        "colab": {
          "base_uri": "https://localhost:8080/"
        },
        "id": "ax7fZB1d5trg",
        "outputId": "241f10a4-9814-4b59-f433-c9ef95e1557d"
      },
      "execution_count": 2,
      "outputs": [
        {
          "output_type": "stream",
          "name": "stdout",
          "text": [
            "NumPy version: 1.23.5\n",
            "NumPy configuration:\n",
            "openblas64__info:\n",
            "    libraries = ['openblas64_', 'openblas64_']\n",
            "    library_dirs = ['/usr/local/lib']\n",
            "    language = c\n",
            "    define_macros = [('HAVE_CBLAS', None), ('BLAS_SYMBOL_SUFFIX', '64_'), ('HAVE_BLAS_ILP64', None)]\n",
            "    runtime_library_dirs = ['/usr/local/lib']\n",
            "blas_ilp64_opt_info:\n",
            "    libraries = ['openblas64_', 'openblas64_']\n",
            "    library_dirs = ['/usr/local/lib']\n",
            "    language = c\n",
            "    define_macros = [('HAVE_CBLAS', None), ('BLAS_SYMBOL_SUFFIX', '64_'), ('HAVE_BLAS_ILP64', None)]\n",
            "    runtime_library_dirs = ['/usr/local/lib']\n",
            "openblas64__lapack_info:\n",
            "    libraries = ['openblas64_', 'openblas64_']\n",
            "    library_dirs = ['/usr/local/lib']\n",
            "    language = c\n",
            "    define_macros = [('HAVE_CBLAS', None), ('BLAS_SYMBOL_SUFFIX', '64_'), ('HAVE_BLAS_ILP64', None), ('HAVE_LAPACKE', None)]\n",
            "    runtime_library_dirs = ['/usr/local/lib']\n",
            "lapack_ilp64_opt_info:\n",
            "    libraries = ['openblas64_', 'openblas64_']\n",
            "    library_dirs = ['/usr/local/lib']\n",
            "    language = c\n",
            "    define_macros = [('HAVE_CBLAS', None), ('BLAS_SYMBOL_SUFFIX', '64_'), ('HAVE_BLAS_ILP64', None), ('HAVE_LAPACKE', None)]\n",
            "    runtime_library_dirs = ['/usr/local/lib']\n",
            "Supported SIMD extensions in this NumPy install:\n",
            "    baseline = SSE,SSE2,SSE3\n",
            "    found = SSSE3,SSE41,POPCNT,SSE42,AVX,F16C,FMA3,AVX2\n",
            "    not found = AVX512F,AVX512CD,AVX512_KNL,AVX512_KNM,AVX512_SKX,AVX512_CLX,AVX512_CNL,AVX512_ICL\n",
            "None\n"
          ]
        }
      ]
    },
    {
      "cell_type": "markdown",
      "source": [
        "Create a null vector of size 10"
      ],
      "metadata": {
        "id": "Qo1SHpsl6djx"
      }
    },
    {
      "cell_type": "code",
      "source": [
        "# Create a null vector of size 10\n",
        "null_vector = np.zeros(10)\n",
        "\n",
        "# Print the null vector\n",
        "print(\"Null vector of size 10:\", null_vector)\n"
      ],
      "metadata": {
        "colab": {
          "base_uri": "https://localhost:8080/"
        },
        "id": "9w3TI1oN7OjK",
        "outputId": "a240e9fa-3a92-4035-9224-a50996187567"
      },
      "execution_count": 3,
      "outputs": [
        {
          "output_type": "stream",
          "name": "stdout",
          "text": [
            "Null vector of size 10: [0. 0. 0. 0. 0. 0. 0. 0. 0. 0.]\n"
          ]
        }
      ]
    },
    {
      "cell_type": "markdown",
      "source": [
        "4. # How to find the memory size of any array"
      ],
      "metadata": {
        "id": "yLTCMTWJ7l6e"
      }
    },
    {
      "cell_type": "code",
      "source": [
        "# Create an array\n",
        "arr = np.zeros((5, 8))  # Example array, replace with your array\n",
        "\n",
        "# Find the memory size of the array\n",
        "memory_size = arr.nbytes\n",
        "\n",
        "# Print the memory size\n",
        "print(\"Memory size of the array:\", memory_size, \"bytes\")\n"
      ],
      "metadata": {
        "colab": {
          "base_uri": "https://localhost:8080/"
        },
        "id": "kwIq5Hbl7psg",
        "outputId": "eff49465-8eb4-41d3-8160-938ce4f6b384"
      },
      "execution_count": 4,
      "outputs": [
        {
          "output_type": "stream",
          "name": "stdout",
          "text": [
            "Memory size of the array: 320 bytes\n"
          ]
        }
      ]
    },
    {
      "cell_type": "markdown",
      "source": [
        "5. How to get the documentation of the numpy add function from the command line?"
      ],
      "metadata": {
        "id": "vGau0FEk9Vth"
      }
    },
    {
      "cell_type": "code",
      "source": [
        "# write the following command in command prompt: python -m pydoc numpy.add\n"
      ],
      "metadata": {
        "id": "oM2VsHm09_1w"
      },
      "execution_count": 5,
      "outputs": []
    },
    {
      "cell_type": "markdown",
      "source": [
        "6. Create a null vector of size 10 but the fifth value which is 1"
      ],
      "metadata": {
        "id": "eMdT8rdB-QTs"
      }
    },
    {
      "cell_type": "code",
      "source": [
        "# Create a null vector of size 10\n",
        "null_vector = np.zeros(10)\n",
        "\n",
        "# Set the fifth value to 1\n",
        "null_vector[4] = 1\n",
        "\n",
        "# Print the null vector\n",
        "print(\"Null vector of size 10 with the fifth value set to 1:\", null_vector)\n"
      ],
      "metadata": {
        "colab": {
          "base_uri": "https://localhost:8080/"
        },
        "id": "ct5Fw0RE-UvY",
        "outputId": "bd2d70d0-febf-440c-fd5e-01e19f7af535"
      },
      "execution_count": 6,
      "outputs": [
        {
          "output_type": "stream",
          "name": "stdout",
          "text": [
            "Null vector of size 10 with the fifth value set to 1: [0. 0. 0. 0. 1. 0. 0. 0. 0. 0.]\n"
          ]
        }
      ]
    },
    {
      "cell_type": "markdown",
      "source": [
        "7. Create a vector with values ranging from 10 to 49"
      ],
      "metadata": {
        "id": "9LnTcoxx-4oG"
      }
    },
    {
      "cell_type": "code",
      "source": [
        "# Create a vector with values ranging from 10 to 49\n",
        "vector = np.arange(10, 50)\n",
        "\n",
        "# Print the vector\n",
        "print(\"Vector with values ranging from 10 to 49:\", vector)\n"
      ],
      "metadata": {
        "colab": {
          "base_uri": "https://localhost:8080/"
        },
        "id": "FfkN7PgF-9jt",
        "outputId": "7b4ec197-7a7a-49ca-e60a-2d72f73c4ced"
      },
      "execution_count": 7,
      "outputs": [
        {
          "output_type": "stream",
          "name": "stdout",
          "text": [
            "Vector with values ranging from 10 to 49: [10 11 12 13 14 15 16 17 18 19 20 21 22 23 24 25 26 27 28 29 30 31 32 33\n",
            " 34 35 36 37 38 39 40 41 42 43 44 45 46 47 48 49]\n"
          ]
        }
      ]
    },
    {
      "cell_type": "markdown",
      "source": [
        "8. Reverse a vector (first element becomes last)"
      ],
      "metadata": {
        "id": "8yGaXkS3_cwE"
      }
    },
    {
      "cell_type": "code",
      "source": [
        "# Create a sample vector\n",
        "new_vector = np.array([1, 2, 3, 4, 5])\n",
        "\n",
        "# Reverse the vector\n",
        "reversed_vector = new_vector[::-1]\n",
        "\n",
        "# Print the reversed vector\n",
        "print(\"Reversed vector:\", reversed_vector)\n"
      ],
      "metadata": {
        "colab": {
          "base_uri": "https://localhost:8080/"
        },
        "id": "PEnM-6Wp_f6t",
        "outputId": "e8c30619-84c6-496a-e5b3-fc107e4dc15f"
      },
      "execution_count": 8,
      "outputs": [
        {
          "output_type": "stream",
          "name": "stdout",
          "text": [
            "Reversed vector: [5 4 3 2 1]\n"
          ]
        }
      ]
    },
    {
      "cell_type": "markdown",
      "source": [
        "9. Create a 3x3 matrix with values ranging from 0 to 8"
      ],
      "metadata": {
        "id": "8IM8S4bsAM1f"
      }
    },
    {
      "cell_type": "code",
      "source": [
        "# Create a vector with values ranging from 0 to 8\n",
        "vector2 = np.arange(9)\n",
        "\n",
        "# Reshape the vector into a 3x3 matrix\n",
        "matrix = vector2.reshape(3, 3)\n",
        "\n",
        "# Print the matrix\n",
        "print(\"3x3 matrix with values ranging from 0 to 8:\")\n",
        "print(matrix)\n"
      ],
      "metadata": {
        "colab": {
          "base_uri": "https://localhost:8080/"
        },
        "id": "T_aTSlEcBB_0",
        "outputId": "925e07d6-ecdb-436c-dd5d-467b8f268361"
      },
      "execution_count": 9,
      "outputs": [
        {
          "output_type": "stream",
          "name": "stdout",
          "text": [
            "3x3 matrix with values ranging from 0 to 8:\n",
            "[[0 1 2]\n",
            " [3 4 5]\n",
            " [6 7 8]]\n"
          ]
        }
      ]
    },
    {
      "cell_type": "markdown",
      "source": [
        "10. Find indices of non-zero elements from [1,2,0,0,4,0]"
      ],
      "metadata": {
        "id": "OO4O1IRTNz7F"
      }
    },
    {
      "cell_type": "code",
      "source": [
        "# Find indices of non-zero elements from [1,2,0,0,4,0]\n",
        "arr = np.array([1, 2, 0, 0, 4, 0])\n",
        "non_zero_indices = np.nonzero(arr)\n",
        "print(\"Indices of non-zero elements:\", non_zero_indices)"
      ],
      "metadata": {
        "colab": {
          "base_uri": "https://localhost:8080/"
        },
        "id": "rUdygw1MN4jB",
        "outputId": "1f14b0db-4de9-4788-a3ee-e4b5365cd3e7"
      },
      "execution_count": 10,
      "outputs": [
        {
          "output_type": "stream",
          "name": "stdout",
          "text": [
            "Indices of non-zero elements: (array([0, 1, 4]),)\n"
          ]
        }
      ]
    },
    {
      "cell_type": "markdown",
      "source": [
        "11. Create a 3x3 identity matrix"
      ],
      "metadata": {
        "id": "OCtxIIyXODpJ"
      }
    },
    {
      "cell_type": "code",
      "source": [
        "# Create a 3x3 identity matrix\n",
        "identity_matrix = np.eye(3)\n",
        "print(\"3x3 Identity Matrix:\")\n",
        "print(identity_matrix)"
      ],
      "metadata": {
        "colab": {
          "base_uri": "https://localhost:8080/"
        },
        "id": "zI-1HbzIOTJO",
        "outputId": "42861d92-31d8-47e3-e609-52e0ec4c954a"
      },
      "execution_count": 11,
      "outputs": [
        {
          "output_type": "stream",
          "name": "stdout",
          "text": [
            "3x3 Identity Matrix:\n",
            "[[1. 0. 0.]\n",
            " [0. 1. 0.]\n",
            " [0. 0. 1.]]\n"
          ]
        }
      ]
    },
    {
      "cell_type": "markdown",
      "source": [
        "12. Create a 3x3x3 array with random values"
      ],
      "metadata": {
        "id": "Zh4SLkqXOa2L"
      }
    },
    {
      "cell_type": "code",
      "source": [
        "# Create a 3x3x3 array with random values\n",
        "my_random_3d_array = np.random.rand(3, 3, 3)\n",
        "print(\"3x3x3 Array with Random Values:\")\n",
        "print(my_random_3d_array)"
      ],
      "metadata": {
        "colab": {
          "base_uri": "https://localhost:8080/"
        },
        "id": "oHes-9ncOgCH",
        "outputId": "e1d1c440-e5da-423f-b56b-a9f698d1e1d5"
      },
      "execution_count": 12,
      "outputs": [
        {
          "output_type": "stream",
          "name": "stdout",
          "text": [
            "3x3x3 Array with Random Values:\n",
            "[[[0.64156609 0.15028774 0.42191824]\n",
            "  [0.3006567  0.78525258 0.06074671]\n",
            "  [0.78460937 0.59745548 0.6158533 ]]\n",
            "\n",
            " [[0.87088793 0.60247088 0.22097648]\n",
            "  [0.0852487  0.57607374 0.51201091]\n",
            "  [0.74413545 0.63842744 0.07607823]]\n",
            "\n",
            " [[0.65122329 0.02252001 0.63258551]\n",
            "  [0.78454226 0.07529833 0.4552876 ]\n",
            "  [0.55031554 0.14260783 0.40917242]]]\n"
          ]
        }
      ]
    },
    {
      "cell_type": "markdown",
      "source": [
        "13. Create a 10x10 array with random values and find the minimum and maximum values"
      ],
      "metadata": {
        "id": "krm2Sn9bOse7"
      }
    },
    {
      "cell_type": "code",
      "source": [
        "# Create a 10x10 array with random values and find the minimum and maximum values\n",
        "random_10x10_array = np.random.rand(10, 10)\n",
        "min_value = np.min(random_10x10_array)\n",
        "max_value = np.max(random_10x10_array)\n",
        "print(\"Minimum Value:\", min_value)\n",
        "print(\"Maximum Value:\", max_value)"
      ],
      "metadata": {
        "id": "BRJnQwfWOzLS",
        "colab": {
          "base_uri": "https://localhost:8080/"
        },
        "outputId": "178f87d1-bd36-4853-a462-b4be5173320e"
      },
      "execution_count": 13,
      "outputs": [
        {
          "output_type": "stream",
          "name": "stdout",
          "text": [
            "Minimum Value: 0.001666556113376183\n",
            "Maximum Value: 0.9915251361684424\n"
          ]
        }
      ]
    },
    {
      "cell_type": "markdown",
      "source": [
        "14. Create a random vector of size 30 and find the mean value"
      ],
      "metadata": {
        "id": "Eb5xNyvnPCSF"
      }
    },
    {
      "cell_type": "code",
      "source": [
        "# Create a random vector of size 30 and find the mean value\n",
        "random_vector = np.random.rand(30)\n",
        "mean_value = np.mean(random_vector)\n",
        "print(\"Mean Value:\", mean_value)"
      ],
      "metadata": {
        "colab": {
          "base_uri": "https://localhost:8080/"
        },
        "id": "i5PydCANPDsh",
        "outputId": "8852bd5a-2d08-40d4-f7dd-762eb3377bee"
      },
      "execution_count": 14,
      "outputs": [
        {
          "output_type": "stream",
          "name": "stdout",
          "text": [
            "Mean Value: 0.5095849386111194\n"
          ]
        }
      ]
    },
    {
      "cell_type": "markdown",
      "source": [
        "15. Create a 2d array with 1 on the border and 0 inside"
      ],
      "metadata": {
        "id": "7p4V__m4PQcr"
      }
    },
    {
      "cell_type": "code",
      "source": [
        "# Create a 2d array with 1 on the border and 0 inside\n",
        "border_array = np.ones((5, 5))\n",
        "border_array[1:-1, 1:-1] = 0\n",
        "print(\"2D Array with 1 on Border and 0 Inside:\")\n",
        "print(border_array)\n"
      ],
      "metadata": {
        "id": "MD612cs3PGyN",
        "colab": {
          "base_uri": "https://localhost:8080/"
        },
        "outputId": "03ea55aa-6bfe-43b1-e07b-38312f865ef9"
      },
      "execution_count": 15,
      "outputs": [
        {
          "output_type": "stream",
          "name": "stdout",
          "text": [
            "2D Array with 1 on Border and 0 Inside:\n",
            "[[1. 1. 1. 1. 1.]\n",
            " [1. 0. 0. 0. 1.]\n",
            " [1. 0. 0. 0. 1.]\n",
            " [1. 0. 0. 0. 1.]\n",
            " [1. 1. 1. 1. 1.]]\n"
          ]
        }
      ]
    },
    {
      "cell_type": "markdown",
      "source": [
        "16. How to add a border (filled with 0's) around an existing array?"
      ],
      "metadata": {
        "id": "FK1vbPXGfSNi"
      }
    },
    {
      "cell_type": "code",
      "source": [
        "# 16. How to add a border (filled with 0's) around an existing array?\n",
        "existing_array = np.ones((3, 3))\n",
        "border_added_array = np.pad(existing_array, pad_width=1, mode='constant', constant_values=0)\n",
        "print(\"Array with Border Added:\")\n",
        "print(border_added_array)"
      ],
      "metadata": {
        "colab": {
          "base_uri": "https://localhost:8080/"
        },
        "id": "zeLJ8JKAfWjQ",
        "outputId": "41fb9e37-8b65-47ec-8412-ae1b4592ce03"
      },
      "execution_count": 16,
      "outputs": [
        {
          "output_type": "stream",
          "name": "stdout",
          "text": [
            "Array with Border Added:\n",
            "[[0. 0. 0. 0. 0.]\n",
            " [0. 1. 1. 1. 0.]\n",
            " [0. 1. 1. 1. 0.]\n",
            " [0. 1. 1. 1. 0.]\n",
            " [0. 0. 0. 0. 0.]]\n"
          ]
        }
      ]
    },
    {
      "cell_type": "markdown",
      "source": [
        "17. Result of the following expressions"
      ],
      "metadata": {
        "id": "nPsn9o4LfvOn"
      }
    },
    {
      "cell_type": "code",
      "source": [
        "# 17. Result of the following expressions\n",
        "print(\"Result of the following expressions:\")\n",
        "print(0 * np.nan)\n",
        "print(np.nan == np.nan)\n",
        "print(np.inf > np.nan)\n",
        "print(np.nan - np.nan)\n",
        "print(np.nan in set([np.nan]))\n",
        "print(0.3 == 3 * 0.1)"
      ],
      "metadata": {
        "colab": {
          "base_uri": "https://localhost:8080/"
        },
        "id": "74MRSX0zf3nx",
        "outputId": "52a10aee-40bf-4ce3-a861-3da2bdd3a6fd"
      },
      "execution_count": 17,
      "outputs": [
        {
          "output_type": "stream",
          "name": "stdout",
          "text": [
            "Result of the following expressions:\n",
            "nan\n",
            "False\n",
            "False\n",
            "nan\n",
            "True\n",
            "False\n"
          ]
        }
      ]
    },
    {
      "cell_type": "markdown",
      "source": [
        "18. Create a 5x5 matrix with values 1,2,3,4 just below the diagonal"
      ],
      "metadata": {
        "id": "gTu267lGgIR3"
      }
    },
    {
      "cell_type": "code",
      "source": [
        "# 18. Create a 5x5 matrix with values 1,2,3,4 just below the diagonal\n",
        "diagonal_below_matrix = np.diag(1 + np.arange(4), k=-1)\n",
        "print(\"5x5 Matrix with Values 1,2,3,4 Below the Diagonal:\")\n",
        "print(diagonal_below_matrix)"
      ],
      "metadata": {
        "colab": {
          "base_uri": "https://localhost:8080/"
        },
        "id": "7qe3oZH6gStY",
        "outputId": "9fc1588a-6af6-433e-851b-ce5ccefdc1e0"
      },
      "execution_count": 18,
      "outputs": [
        {
          "output_type": "stream",
          "name": "stdout",
          "text": [
            "5x5 Matrix with Values 1,2,3,4 Below the Diagonal:\n",
            "[[0 0 0 0 0]\n",
            " [1 0 0 0 0]\n",
            " [0 2 0 0 0]\n",
            " [0 0 3 0 0]\n",
            " [0 0 0 4 0]]\n"
          ]
        }
      ]
    },
    {
      "cell_type": "markdown",
      "source": [
        "19. Create a 8x8 matrix and fill it with a checkerboard pattern"
      ],
      "metadata": {
        "id": "GmfkMH2tglYI"
      }
    },
    {
      "cell_type": "code",
      "source": [
        "# 19. Create a 8x8 matrix and fill it with a checkerboard pattern\n",
        "checkerboard_matrix = np.zeros((8, 8), dtype=int)\n",
        "checkerboard_matrix[1::2, ::2] = 1\n",
        "checkerboard_matrix[::2, 1::2] = 1\n",
        "print(\"8x8 Matrix with Checkerboard Pattern:\")\n",
        "print(checkerboard_matrix)"
      ],
      "metadata": {
        "colab": {
          "base_uri": "https://localhost:8080/"
        },
        "id": "wBTkzZj1gkDC",
        "outputId": "93b266cf-6026-40a2-c968-dca169f51a2f"
      },
      "execution_count": 19,
      "outputs": [
        {
          "output_type": "stream",
          "name": "stdout",
          "text": [
            "8x8 Matrix with Checkerboard Pattern:\n",
            "[[0 1 0 1 0 1 0 1]\n",
            " [1 0 1 0 1 0 1 0]\n",
            " [0 1 0 1 0 1 0 1]\n",
            " [1 0 1 0 1 0 1 0]\n",
            " [0 1 0 1 0 1 0 1]\n",
            " [1 0 1 0 1 0 1 0]\n",
            " [0 1 0 1 0 1 0 1]\n",
            " [1 0 1 0 1 0 1 0]]\n"
          ]
        }
      ]
    },
    {
      "cell_type": "markdown",
      "source": [
        "20. Index (x,y,z) of the 100th element in a (6,7,8) shape array"
      ],
      "metadata": {
        "id": "OMW8hY_5guSX"
      }
    },
    {
      "cell_type": "code",
      "source": [
        "# 20. Index (x,y,z) of the 100th element in a (6,7,8) shape array\n",
        "array_shape = (6, 7, 8)\n",
        "index_100th_element = np.unravel_index(100, array_shape)\n",
        "print(\"Index of the 100th element in a (6,7,8) array:\", index_100th_element)"
      ],
      "metadata": {
        "colab": {
          "base_uri": "https://localhost:8080/"
        },
        "id": "GVZ6G_iSgxSc",
        "outputId": "9be0fb92-2048-41c6-a4ce-0b801726f26e"
      },
      "execution_count": 20,
      "outputs": [
        {
          "output_type": "stream",
          "name": "stdout",
          "text": [
            "Index of the 100th element in a (6,7,8) array: (1, 5, 4)\n"
          ]
        }
      ]
    }
  ]
}